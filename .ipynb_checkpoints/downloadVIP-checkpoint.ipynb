{
 "cells": [
  {
   "cell_type": "code",
   "execution_count": null,
   "metadata": {},
   "outputs": [],
   "source": [
    "import requests\n",
    "# from multiprocessing import Pool\n",
    "import subprocess\n",
    "import re\n",
    "\n",
    "def download(url):\n",
    "    mlist = requests.get('http://jx.618g.com/?url='+url)\n",
    "    text = mlist.text\n",
    "    \n",
    "    re_filename = re.compile(r'(?ms:.*?<title>(.+?)</title>$)')\n",
    "    try:\n",
    "        filename = re_filename.match(text).group(1)\n",
    "    except AttributeError as e:\n",
    "        print(\"except: \", e)\n",
    "        print(\"Please check the element <title> in raw HTML file.\")\n",
    "    \n",
    "    re_listaddr = re.compile(r'(?ms:.*?<iframe.*?\\?url=(.*?\\.m3u8)\">)')\n",
    "    try:\n",
    "        listaddr = re_listaddr.match(text).group(1)\n",
    "    except AttributeError as e:\n",
    "        print(\"except: \", e)\n",
    "        print(\"Please check the element <iframe src=\\\"...\\\"> in raw HTML file.\")\n",
    "    \n",
    "    exp = 'ffmpeg -i \"{x}\" -vcodec copy -acodec copy ./{y}.mp4 -y'.format(x=listaddr, y=filename)\n",
    "    proc = subprocess.run(exp,shell=True)\n",
    "    return 1\n",
    "\n",
    "url = 'https://www.iqiyi.com/v_19rrhs2sc0.html'\n",
    "download(url)"
   ]
  },
  {
   "cell_type": "code",
   "execution_count": null,
   "metadata": {},
   "outputs": [],
   "source": [
    "a = re.match(r'(?ms:.*?<iframe.*?\\?url=(.*?\\.m3u8)\">)', text)\n",
    "if a != None:\n",
    "    print(a.group(1))\n",
    "else:\n",
    "    print(type(text))\n",
    "#     print(a.groups())\n"
   ]
  },
  {
   "cell_type": "code",
   "execution_count": null,
   "metadata": {},
   "outputs": [],
   "source": [
    "process = subprocess.Popen(['ffmpeg','-i','https://youku.cdn5-okzy.com/20200126/12498_0378ba91/index.m3u8','-vcodec copy','-acodec copy','./test1.mp4'], \n",
    "                           stdout=subprocess.PIPE,\n",
    "                           universal_newlines=True)\n",
    "\n",
    "while True:\n",
    "    output = process.stdout.readline()\n",
    "    print(output.strip())\n",
    "    # Do something else\n",
    "    return_code = process.poll()\n",
    "    if return_code is not None:\n",
    "        print('RETURN CODE', return_code)\n",
    "        # Process has finished, read rest of the output \n",
    "        for output in process.stdout.readlines():\n",
    "            print(output.strip())\n",
    "        break"
   ]
  },
  {
   "cell_type": "code",
   "execution_count": null,
   "metadata": {},
   "outputs": [],
   "source": [
    "# ffmpeg -i \"https://youku.cdn5-okzy.com/20200126/12498_0378ba91/index.m3u8\" -vcodec copy -acodec copy ./test.mp4\n",
    "proc1 = subprocess.Popen(['ffmpeg','-i','https://youku.cdn5-okzy.com/20200126/12498_0378ba91/index.m3u8','-vcodec','copy','-acodec','copy','./test1.mp4','-y']\n",
    "                         ,stdout=subprocess.PIPE,\n",
    "                           universal_newlines=True)"
   ]
  },
  {
   "cell_type": "code",
   "execution_count": null,
   "metadata": {},
   "outputs": [],
   "source": [
    "url = 'http://jx.618g.com/?url=https://www.iqiyi.com/v_19rrhs2sc0.html'\n",
    "mlist = requests.get(url)\n",
    "text = mlist.text\n",
    "re_filename = re.compile(r'<title>(.+)</title>')\n",
    "print(re_filename.match(text))"
   ]
  },
  {
   "cell_type": "code",
   "execution_count": null,
   "metadata": {},
   "outputs": [],
   "source": [
    "try:\n",
    "    print('try...')\n",
    "    r = 10 / 0\n",
    "    print('result:', r)\n",
    "except ZeroDivisionError as e:\n",
    "    print('except:', e)\n",
    "print('END')"
   ]
  }
 ],
 "metadata": {
  "kernelspec": {
   "display_name": "Python 3",
   "language": "python",
   "name": "python3"
  },
  "language_info": {
   "codemirror_mode": {
    "name": "ipython",
    "version": 3
   },
   "file_extension": ".py",
   "mimetype": "text/x-python",
   "name": "python",
   "nbconvert_exporter": "python",
   "pygments_lexer": "ipython3",
   "version": "3.8.2"
  }
 },
 "nbformat": 4,
 "nbformat_minor": 4
}
